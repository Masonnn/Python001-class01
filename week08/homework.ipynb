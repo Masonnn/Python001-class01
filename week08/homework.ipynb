{
 "cells": [
  {
   "cell_type": "markdown",
   "metadata": {},
   "source": [
    "## 作业一：\n",
    "\n",
    "区分以下类型哪些是容器序列哪些是扁平序列，哪些是可变序列哪些是不可变序列："
   ]
  },
  {
   "cell_type": "markdown",
   "metadata": {},
   "source": [
    "| 类型 | 是否容器 | 是否可变 |备注 |\n",
    "| --- | --- | --- | --- |\n",
    "| list | Y | Y |  |\n",
    "| tuple | Y | N |  |\n",
    "| str | N | N |  |\n",
    "| dict | Y | Y |  |\n",
    "| collections.deque | Y | Y |  |"
   ]
  },
  {
   "cell_type": "markdown",
   "metadata": {},
   "source": [
    "## 作业二：\n",
    "自定义一个 python 函数，实现 map() 函数的功能。"
   ]
  },
  {
   "cell_type": "code",
   "execution_count": null,
   "metadata": {},
   "outputs": [],
   "source": [
    "def mapper(func, *iterables):\n",
    "    for args in zip(*iterables):\n",
    "        yield func(*args)"
   ]
  },
  {
   "cell_type": "markdown",
   "metadata": {},
   "source": [
    "## 作业三：\n",
    "实现一个 @timer 装饰器，记录函数的运行时间，注意需要考虑函数可能会接收不定长参数。"
   ]
  },
  {
   "cell_type": "code",
   "execution_count": null,
   "metadata": {},
   "outputs": [],
   "source": [
    "from functools import wraps\n",
    "import time\n",
    "\n",
    "\n",
    "def timer(func):\n",
    "    @wraps(func)\n",
    "    def inner(*args, **kwargs):\n",
    "        begin = time.time()\n",
    "        result = func(*args, **kwargs)\n",
    "        end = time.time()\n",
    "        print(f\"{func.__name__}运行用时： {end - begin}\")\n",
    "        return result\n",
    "\n",
    "    return inner"
   ]
  }
 ],
 "metadata": {
  "kernelspec": {
   "display_name": "Python 3",
   "language": "python",
   "name": "python3"
  },
  "language_info": {
   "codemirror_mode": {
    "name": "ipython",
    "version": 3
   },
   "file_extension": ".py",
   "mimetype": "text/x-python",
   "name": "python",
   "nbconvert_exporter": "python",
   "pygments_lexer": "ipython3",
   "version": "3.7.7"
  }
 },
 "nbformat": 4,
 "nbformat_minor": 4
}
